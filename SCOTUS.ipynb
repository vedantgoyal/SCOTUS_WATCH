{
 "cells": [
  {
   "cell_type": "code",
   "execution_count": 29,
   "metadata": {},
   "outputs": [],
   "source": [
    "import csv\n",
    "import json\n",
    "\n",
    "csvfile = open('JusticeData.csv', 'r')\n",
    "jsonfile = open('petitioner.json', 'w')\n",
    "\n",
    "fieldnames = (\"id\",\"val\")\n",
    "reader = csv.DictReader( csvfile, )"
   ]
  },
  {
   "cell_type": "code",
   "execution_count": 30,
   "metadata": {
    "collapsed": true
   },
   "outputs": [],
   "source": [
    "line = []\n",
    "for row in reader:\n",
    "    line = row\n",
    "    break"
   ]
  },
  {
   "cell_type": "code",
   "execution_count": 34,
   "metadata": {},
   "outputs": [
    {
     "data": {
      "text/plain": [
       "{'adminAction': '',\n",
       " 'adminActionState': '',\n",
       " 'authorityDecision1': '4',\n",
       " 'authorityDecision2': '',\n",
       " 'caseDisposition': '3',\n",
       " 'caseDispositionUnusual': '0',\n",
       " 'caseId': '1946-001',\n",
       " 'caseIssuesId': '1946-001-01-01',\n",
       " 'caseName': 'HALLIBURTON OIL WELL CEMENTING CO. v. WALKER et al., DOING BUSINESS AS DEPTHOGRAPH CO.',\n",
       " 'caseOrigin': '51',\n",
       " 'caseOriginState': '6',\n",
       " 'caseSource': '29',\n",
       " 'caseSourceState': '',\n",
       " 'certReason': '11',\n",
       " 'chief': 'Vinson',\n",
       " 'dateArgument': '1/9/1946',\n",
       " 'dateDecision': '11/18/1946',\n",
       " 'dateRearg': '10/23/1946',\n",
       " 'decisionDirection': '2',\n",
       " 'decisionDirectionDissent': '0',\n",
       " 'decisionType': '1',\n",
       " 'declarationUncon': '1',\n",
       " 'direction': '1',\n",
       " 'docket': '24',\n",
       " 'docketId': '1946-001-01',\n",
       " 'firstAgreement': '',\n",
       " 'issue': '80180',\n",
       " 'issueArea': '8',\n",
       " 'jurisdiction': '6',\n",
       " 'justice': '86',\n",
       " 'justiceName': 'HHBurton',\n",
       " 'lawMinor': '35 U.S.C. � 33',\n",
       " 'lawSupp': '600',\n",
       " 'lawType': '6',\n",
       " 'lcDisagreement': '0',\n",
       " 'lcDisposition': '2',\n",
       " 'lcDispositionDirection': '1',\n",
       " 'ledCite': '91 L. Ed. 3',\n",
       " 'lexisCite': '1946 U.S. LEXIS 1724',\n",
       " 'majOpinAssigner': '78',\n",
       " 'majOpinWriter': '78',\n",
       " 'majVotes': '8',\n",
       " 'majority': '1',\n",
       " 'minVotes': '1',\n",
       " 'naturalCourt': '1301',\n",
       " 'opinion': '1',\n",
       " 'partyWinning': '1',\n",
       " 'petitioner': '198',\n",
       " 'petitionerState': '',\n",
       " 'precedentAlteration': '1',\n",
       " 'respondent': '172',\n",
       " 'respondentState': '',\n",
       " 'sctCite': '67 S. Ct. 6',\n",
       " 'secondAgreement': '',\n",
       " 'splitVote': '1',\n",
       " 'term': '1946',\n",
       " 'threeJudgeFdc': '0',\n",
       " 'usCite': '329 U.S. 1',\n",
       " 'vote': '2',\n",
       " 'voteId': '1946-001-01-01-01-01',\n",
       " 'voteUnclear': '0'}"
      ]
     },
     "execution_count": 34,
     "metadata": {},
     "output_type": "execute_result"
    }
   ],
   "source": [
    "dict(line)"
   ]
  },
  {
   "cell_type": "code",
   "execution_count": null,
   "metadata": {
    "collapsed": true
   },
   "outputs": [],
   "source": [
    "data = []\n",
    "for line in read:\n",
    "    li\n",
    "    data.append(dict(line))"
   ]
  },
  {
   "cell_type": "code",
   "execution_count": 35,
   "metadata": {},
   "outputs": [
    {
     "data": {
      "text/plain": [
       "\"\\nSCDB Case ID\\nSCDB Docket ID\\nSCDB Issues ID\\nSCDB Vote ID\\nCase Name\\nPetitioner\\nRespondent\\nManner in which the Court takes Jurisdiction\\nOrigin of Case\\nSource of Case\\nLower Court Disagreement\\nReason for Granting Cert\\nLower Court Disposition\\nLower Court Disposition Direction\\nNatural Court\\nDate of Decision\\nTerm of Court\\nWinning Party\\nMajority Votes\\nMinority Votes\\nThe Vote in the Case\\nDirection of the Individual Justice's Votes\\nMajority and Minority Voting by Justice\\n\""
      ]
     },
     "execution_count": 35,
     "metadata": {},
     "output_type": "execute_result"
    }
   ],
   "source": [
    "\"\"\"\n",
    "SCDB Case ID\n",
    "SCDB Docket ID\n",
    "SCDB Issues ID\n",
    "SCDB Vote ID\n",
    "Case Name\n",
    "Petitioner\n",
    "Respondent\n",
    "Manner in which the Court takes Jurisdiction\n",
    "Origin of Case\n",
    "Source of Case\n",
    "Lower Court Disagreement\n",
    "Reason for Granting Cert\n",
    "Lower Court Disposition\n",
    "Lower Court Disposition Direction\n",
    "Natural Court\n",
    "Date of Decision\n",
    "Term of Court\n",
    "Winning Party\n",
    "Majority Votes\n",
    "Minority Votes\n",
    "The Vote in the Case\n",
    "Direction of the Individual Justice's Votes\n",
    "Majority and Minority Voting by Justice\n",
    "\"\"\""
   ]
  }
 ],
 "metadata": {
  "kernelspec": {
   "display_name": "Python 3",
   "language": "python",
   "name": "python3"
  },
  "language_info": {
   "codemirror_mode": {
    "name": "ipython",
    "version": 3
   },
   "file_extension": ".py",
   "mimetype": "text/x-python",
   "name": "python",
   "nbconvert_exporter": "python",
   "pygments_lexer": "ipython3",
   "version": "3.6.6"
  }
 },
 "nbformat": 4,
 "nbformat_minor": 2
}
